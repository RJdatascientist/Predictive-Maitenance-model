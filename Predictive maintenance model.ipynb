{
 "cells": [
  {
   "cell_type": "code",
   "execution_count": 1,
   "id": "a9d49aa1",
   "metadata": {},
   "outputs": [],
   "source": [
    "# 1. Data Collection (Data Input)\n",
    "\n",
    "# 2. Data Preprocessing (Basic)\n",
    "\n",
    "# 3. Feature Engineering (Optional)\n",
    "\n",
    "# 4. Model Training\n",
    "\n",
    "# 5. Prediction"
   ]
  },
  {
   "cell_type": "code",
   "execution_count": 6,
   "id": "423287ae",
   "metadata": {},
   "outputs": [
    {
     "name": "stdout",
     "output_type": "stream",
     "text": [
      "Enter equipment data(or type 'done' to finish)\n",
      "Timestamp (YYYY:MM:DD HH:MM:SS)2024-04-11 13:23:00\n",
      "Feature 1(e.g. Temperature)43\n",
      "Feature 2(e.g. vibration)67.8\n",
      "Timestamp (YYYY:MM:DD HH:MM:SS)2024-05-12 12:30:10\n",
      "Feature 1(e.g. Temperature)23\n",
      "Feature 2(e.g. vibration)34.6\n",
      "Timestamp (YYYY:MM:DD HH:MM:SS)done\n",
      "Enter new fweature 1 value to predict feature 270\n",
      "Predicted Feature 2 value: [112.62]\n"
     ]
    }
   ],
   "source": [
    "import pandas as pd\n",
    "from sklearn.linear_model import LinearRegression\n",
    "import datetime\n",
    "\n",
    "# 1. Data Collection\n",
    "data = []\n",
    "print(\"Enter equipment data(or type 'done' to finish):\")\n",
    "while True:\n",
    "    timestamp = input(\"Timestamp (YYYY-MM-DD HH:MM:SS):\")\n",
    "    if timestamp.lower()=='done':\n",
    "        break\n",
    "    feature1 = float(input(\"Feature 1(e.g. Temperature):\"))\n",
    "    feature2 = float(input(\"Feature 2(e.g. vibration):\"))\n",
    "    data.append([timestamp,feature1,feature2])\n",
    "\n",
    "# Create Dataframe\n",
    "df = pd.DataFrame(data, columns=['Timestamp','Feature 1','Feature 2'])\n",
    "df['Timestamp'] = pd.to_datetime(df['Timestamp'])\n",
    "\n",
    "# 2 Model Training (Simple example predicting feature 2 based on feature 1)\n",
    "X = df[[\"Feature 1\"]]\n",
    "y = df[[\"Feature 2\"]]\n",
    "model = LinearRegression()\n",
    "model.fit(X,y)\n",
    "\n",
    "# 3 Prediction\n",
    "new_feature1 = float(input(\"Enter new fweature 1 value to predict feature 2:\"))\n",
    "new_data = pd.DataFrame([[new_feature1]],[\"Feature 1\"])\n",
    "prediction = model.predict(new_data)\n",
    "print(\"Predicted Feature 2 value:\",prediction[0])"
   ]
  },
  {
   "cell_type": "code",
   "execution_count": null,
   "id": "36d156e5",
   "metadata": {},
   "outputs": [],
   "source": []
  },
  {
   "cell_type": "code",
   "execution_count": null,
   "id": "865458d5",
   "metadata": {},
   "outputs": [],
   "source": []
  }
 ],
 "metadata": {
  "kernelspec": {
   "display_name": "Python 3",
   "language": "python",
   "name": "python3"
  },
  "language_info": {
   "codemirror_mode": {
    "name": "ipython",
    "version": 3
   },
   "file_extension": ".py",
   "mimetype": "text/x-python",
   "name": "python",
   "nbconvert_exporter": "python",
   "pygments_lexer": "ipython3",
   "version": "3.8.8"
  }
 },
 "nbformat": 4,
 "nbformat_minor": 5
}
